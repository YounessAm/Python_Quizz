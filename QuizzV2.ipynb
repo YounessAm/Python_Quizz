{
 "cells": [
  {
   "cell_type": "markdown",
   "metadata": {},
   "source": [
    "### Fct 1 : Vérifier la réponse donnée"
   ]
  },
  {
   "cell_type": "code",
   "execution_count": 26,
   "metadata": {},
   "outputs": [],
   "source": [
    "#définir la fonction pour verifier la réponse\n",
    "\n",
    "def verifier(rep,bonn_rep):\n",
    "    if str(rep).lower()==str(bonn_rep).lower():\n",
    "        print('')\n",
    "        print('----------------------------------------------------')\n",
    "        print('Good job! This is the right answer')\n",
    "        print('----------------------------------------------------')\n",
    "        print('')\n",
    "        return 1\n",
    "    else :\n",
    "        print('')\n",
    "        print('----------------------------------------------------')\n",
    "        print('Too bad! that is not the correct answer')\n",
    "        print('----------------------------------------------------')\n",
    "        print('')\n",
    "        \n",
    "        return 0\n",
    "    \n",
    "    "
   ]
  },
  {
   "cell_type": "markdown",
   "metadata": {},
   "source": [
    "### Fct 2 : Afficher questions"
   ]
  },
  {
   "cell_type": "code",
   "execution_count": 27,
   "metadata": {},
   "outputs": [],
   "source": [
    "def afficher_question(questions, nb_quest):\n",
    "\n",
    "#---On crée une différence entre le texte du début du quizz et celui de la suite\n",
    "    if nb_quest == 0:\n",
    "        print('Bonjour et bienvenu à notre quizz !!')\n",
    "        print('')\n",
    "        print('La 1ère question à laquelle il faudrait répondre pour espérer atteindre le million est : ')\n",
    "        print('')\n",
    "    else :\n",
    "        print('')\n",
    "        print('Maintenant place à la ', nb_quest+1,'ème question :')\n",
    "        print('')\n",
    "\n",
    "#---On affiche la question\n",
    "    print(questions[nb_quest])\n",
    "    print('')"
   ]
  },
  {
   "cell_type": "markdown",
   "metadata": {},
   "source": [
    "### Fct 3 : demander la réponse et vérifer sa cohérence et son exactitude"
   ]
  },
  {
   "cell_type": "code",
   "execution_count": 56,
   "metadata": {},
   "outputs": [],
   "source": [
    "def demande_verif_rep(bonne_rep,reps,qcm,nb_bad_max=3):\n",
    "#---Si qcm, on affiche les propositions de réponses\n",
    "    if qcm :        \n",
    "        j=1\n",
    "        for i in reps:\n",
    "            print(j,\" - \",i)\n",
    "            j+=1\n",
    "\n",
    "#------ On demande le numéro de la proposition présentie\n",
    "        print('')\n",
    "        rep = input(\"Veuillez indiquer le numéro de votre réponse \\n\")\n",
    "\n",
    "\n",
    "#---Sinon, on affiche rien et on demande directement la réponse\n",
    "    else : \n",
    "        rep = input(\"Veuillez indiquer votre réponse \\n\")\n",
    "\n",
    "#---On vérifie la cohérence et l'exactitude de la réponse (la variable passer doit être égale à 1)\n",
    "    passer =0\n",
    "    nb_bad_temp = 0\n",
    "    while passer == 0 and nb_bad_temp<nb_bad_max-1 :\n",
    "        try :\n",
    "            rep=int(rep)\n",
    "\n",
    "        except :\n",
    "#-----------REPONSE = Chaine de Caractères\n",
    "            if not(qcm) :\n",
    "#---------------On vérifie la réponse en chaine de caractère du quizz (non QCM)\n",
    "                passer= verifier(rep,bonne_rep)\n",
    "                if passer == 0 :\n",
    "                    print('')\n",
    "                    nb_bad_temp+=1\n",
    "                    rep=input(\"Veuillez retester, vous avez {} tentatives restantes \\n\".format(nb_bad_max-nb_bad_temp)+ \"\\n\")\n",
    "\n",
    "            else :\n",
    "\n",
    "#---------------La réponse donnée pour un qcm est une chaine de caractère, on redemande d'insérer uniquement le numéro\n",
    "                rep = input(\"Veuillez insérer uniquement le numéro de la réponse \\n\")\n",
    "\n",
    "        else :\n",
    "#-----------REPONSE = Numérique\n",
    "            if not(qcm) :\n",
    "\n",
    "#---------------On vérifie la réponse numérique du quizz (non QCM)\n",
    "                passer= verifier(rep,bonne_rep)\n",
    "                if passer == 0 :\n",
    "                    print('')\n",
    "                    nb_bad_temp+=1\n",
    "                    rep=input(\"Veuillez retester, vous avez {} tentatives restantes\".format(nb_bad_max-nb_bad_temp)+ \"\\n\")\n",
    "\n",
    "            elif rep >= j or rep <=0 :\n",
    "\n",
    "#---------------La réponse donnée pour un QCM est un numéro différent de celui du quizz\n",
    "                rep = input(\"Veuillez réinsérer le numéro de votre réponse \\n\")\n",
    "\n",
    "            else :               \n",
    "\n",
    "#---------------On vérifie la réponse numérique du QCM                  \n",
    "                passer= verifier(rep,bonne_rep)\n",
    "\n",
    "                if passer == 0 :\n",
    "                    print('')\n",
    "                    nb_bad_temp+=1\n",
    "                    rep=input(\"Veuillez retester, vous avez {} tentatives restantes \\n\".format(nb_bad_max-nb_bad_temp)+ \"\\n\")\n",
    "    \n",
    "    if nb_bad_temp == nb_bad_max-1: \n",
    "        return nb_bad_temp,0\n",
    "    else :\n",
    "        return nb_bad_temp,1"
   ]
  },
  {
   "cell_type": "markdown",
   "metadata": {},
   "source": [
    "### Fct 4 : Démarer un quizz"
   ]
  },
  {
   "cell_type": "code",
   "execution_count": 60,
   "metadata": {},
   "outputs": [],
   "source": [
    "   \n",
    "#Définition de la fonction qui démare le quizz incluant des questions en QCM (ou pas)\n",
    "\n",
    "def demarer_quizz_qcm(quest,bonne_rep,reps=[[]],nb_bad_max=3):\n",
    "\n",
    "#---On intialise nos compteurs (nombre de questions parcourues, nombre de mauvaises réponses)\n",
    "    nb_quest = 0\n",
    "    nb_bad = 0\n",
    "\n",
    "#---On vérifie si l'utilisateur a renseigné des propositions de réponses\n",
    "    qcm = False\n",
    "    if reps == [[]]:\n",
    "        qcm_exist = False\n",
    "    else :\n",
    "        qcm_exist = True\n",
    "\n",
    "        \n",
    "#--On parcours la liste des questions / réponses\n",
    "    while nb_quest<len(quest):\n",
    "        \n",
    "#-------On affiche la question\n",
    "        afficher_question(quest,nb_quest)\n",
    "        \n",
    "        \n",
    "#------ On vérifie si la question (nb_quest) est un qcm\n",
    "        if qcm_exist and reps[nb_quest] != [] :\n",
    "            qcm = True\n",
    "            reps_temp=reps[nb_quest]\n",
    "#-----------Si QCM, On vérifie le format de la bonne réponse fournie. Si ce n'est pas un int, on obtient un message d'erreur\n",
    "            if type(bonne_rep[nb_quest])!=int :\n",
    "                return print(\"ERROR : check l'input de ta liste de bonnes réponses\" )\n",
    "        else :\n",
    "            qcm = False\n",
    "            reps_temp=[]\n",
    "#-------On demande une réponse et on la vérifie\n",
    "        nb_bad_temp, sucess = demande_verif_rep(bonne_rep[nb_quest],reps_temp,qcm,nb_bad_max)\n",
    "        nb_bad +=nb_bad_temp                \n",
    "        if sucess == 0 :\n",
    "            return print('Looooser, You lost the game')\n",
    "        else :\n",
    "            nb_quest+=1\n",
    "        \n",
    "#---On félicite l'utilisateur de la réussite au quizz                             \n",
    "    print(\"\")\n",
    "    print(\"!!! Vous avez atteind le palier des 1 million d'euros en ayant eu \", nb_bad,\" mauvaises réponses !!!\")    \n",
    "    if nb_bad == 0:\n",
    "        print('!!! Pas mal, Pas mal CHAMPION !!!')\n",
    "    elif nb_bad <3 :\n",
    "        print('!!! Clooooose !!!')\n",
    "    else :\n",
    "        print('!!! GROS NUUUUUUL !!!')"
   ]
  },
  {
   "cell_type": "code",
   "execution_count": null,
   "metadata": {},
   "outputs": [],
   "source": []
  },
  {
   "cell_type": "markdown",
   "metadata": {},
   "source": [
    "### Initialisation du quizz"
   ]
  },
  {
   "cell_type": "code",
   "execution_count": 61,
   "metadata": {},
   "outputs": [],
   "source": [
    "## QUIZZ QCM ##\n",
    "questions = ['qui est tu ?','Qui a découvert le continant américain ?']\n",
    "reps = [[],['chinois', 'espagnols', 'marocains', 'dude']]\n",
    "bonne_rep = ['Youness',1]\n"
   ]
  },
  {
   "cell_type": "markdown",
   "metadata": {},
   "source": [
    "### Démarer le quizz"
   ]
  },
  {
   "cell_type": "code",
   "execution_count": 63,
   "metadata": {},
   "outputs": [
    {
     "name": "stdout",
     "output_type": "stream",
     "text": [
      "Bonjour et bienvenu à notre quizz !!\n",
      "\n",
      "La 1ère question à laquelle il faudrait répondre pour espérer atteindre le million est : \n",
      "\n",
      "qui est tu ?\n",
      "\n"
     ]
    },
    {
     "name": "stdin",
     "output_type": "stream",
     "text": [
      "Veuillez indiquer votre réponse \n",
      " 3\n"
     ]
    },
    {
     "name": "stdout",
     "output_type": "stream",
     "text": [
      "\n",
      "----------------------------------------------------\n",
      "Too bad! that is not the correct answer\n",
      "----------------------------------------------------\n",
      "\n",
      "\n"
     ]
    },
    {
     "name": "stdin",
     "output_type": "stream",
     "text": [
      "Veuillez retester, vous avez 4 tentatives restantes\n",
      " 2\n"
     ]
    },
    {
     "name": "stdout",
     "output_type": "stream",
     "text": [
      "\n",
      "----------------------------------------------------\n",
      "Too bad! that is not the correct answer\n",
      "----------------------------------------------------\n",
      "\n",
      "\n"
     ]
    },
    {
     "name": "stdin",
     "output_type": "stream",
     "text": [
      "Veuillez retester, vous avez 3 tentatives restantes\n",
      " Youness\n"
     ]
    },
    {
     "name": "stdout",
     "output_type": "stream",
     "text": [
      "\n",
      "----------------------------------------------------\n",
      "Good job! This is the right answer\n",
      "----------------------------------------------------\n",
      "\n",
      "\n",
      "Maintenant place à la  2 ème question :\n",
      "\n",
      "Qui a découvert le continant américain ?\n",
      "\n",
      "1  -  chinois\n",
      "2  -  espagnols\n",
      "3  -  marocains\n",
      "4  -  dude\n",
      "\n"
     ]
    },
    {
     "name": "stdin",
     "output_type": "stream",
     "text": [
      "Veuillez indiquer le numéro de votre réponse \n",
      " 2\n"
     ]
    },
    {
     "name": "stdout",
     "output_type": "stream",
     "text": [
      "\n",
      "----------------------------------------------------\n",
      "Too bad! that is not the correct answer\n",
      "----------------------------------------------------\n",
      "\n",
      "\n"
     ]
    },
    {
     "name": "stdin",
     "output_type": "stream",
     "text": [
      "Veuillez retester, vous avez 4 tentatives restantes \n",
      "\n",
      " 3\n"
     ]
    },
    {
     "name": "stdout",
     "output_type": "stream",
     "text": [
      "\n",
      "----------------------------------------------------\n",
      "Too bad! that is not the correct answer\n",
      "----------------------------------------------------\n",
      "\n",
      "\n"
     ]
    },
    {
     "name": "stdin",
     "output_type": "stream",
     "text": [
      "Veuillez retester, vous avez 3 tentatives restantes \n",
      "\n",
      " 4\n"
     ]
    },
    {
     "name": "stdout",
     "output_type": "stream",
     "text": [
      "\n",
      "----------------------------------------------------\n",
      "Too bad! that is not the correct answer\n",
      "----------------------------------------------------\n",
      "\n",
      "\n"
     ]
    },
    {
     "name": "stdin",
     "output_type": "stream",
     "text": [
      "Veuillez retester, vous avez 2 tentatives restantes \n",
      "\n",
      " 1\n"
     ]
    },
    {
     "name": "stdout",
     "output_type": "stream",
     "text": [
      "\n",
      "----------------------------------------------------\n",
      "Good job! This is the right answer\n",
      "----------------------------------------------------\n",
      "\n",
      "\n",
      "!!! Vous avez atteind le palier des 1 million d'euros en ayant eu  5  mauvaises réponses !!!\n",
      "!!! GROS NUUUUUUL !!!\n"
     ]
    }
   ],
   "source": [
    "demarer_quizz_qcm(questions,bonne_rep, reps,5)"
   ]
  },
  {
   "cell_type": "code",
   "execution_count": null,
   "metadata": {},
   "outputs": [],
   "source": []
  },
  {
   "cell_type": "markdown",
   "metadata": {},
   "source": []
  },
  {
   "cell_type": "code",
   "execution_count": null,
   "metadata": {},
   "outputs": [],
   "source": []
  }
 ],
 "metadata": {
  "kernelspec": {
   "display_name": "Python 3",
   "language": "python",
   "name": "python3"
  },
  "language_info": {
   "codemirror_mode": {
    "name": "ipython",
    "version": 3
   },
   "file_extension": ".py",
   "mimetype": "text/x-python",
   "name": "python",
   "nbconvert_exporter": "python",
   "pygments_lexer": "ipython3",
   "version": "3.8.3"
  }
 },
 "nbformat": 4,
 "nbformat_minor": 4
}
