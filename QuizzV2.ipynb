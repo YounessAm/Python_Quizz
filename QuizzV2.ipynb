{
 "cells": [
  {
   "cell_type": "markdown",
   "source": [
    "### Fct 1 : Vérifier la réponse donnée"
   ],
   "metadata": {}
  },
  {
   "cell_type": "code",
   "execution_count": 7,
   "source": [
    "#définir la fonction pour verifier la réponse\r\n",
    "\r\n",
    "def verifier(rep,bonn_rep):\r\n",
    "    if str(rep).lower()==str(bonn_rep).lower():\r\n",
    "        print('')\r\n",
    "        print('----------------------------------------------------')\r\n",
    "        print('Good job! This is the right answer')\r\n",
    "        print('----------------------------------------------------')\r\n",
    "        print('')\r\n",
    "        return 1\r\n",
    "    else :\r\n",
    "        print('')\r\n",
    "        print('----------------------------------------------------')\r\n",
    "        print('Too bad! that is not the correct answer')\r\n",
    "        print('----------------------------------------------------')\r\n",
    "        print('')\r\n",
    "        \r\n",
    "        return 0\r\n",
    "    \r\n",
    "    "
   ],
   "outputs": [],
   "metadata": {}
  },
  {
   "cell_type": "markdown",
   "source": [
    "### Fct 2 : Afficher questions"
   ],
   "metadata": {}
  },
  {
   "cell_type": "code",
   "execution_count": 8,
   "source": [
    "def afficher_question(questions, nb_quest):\r\n",
    "\r\n",
    "#---On crée une différence entre le texte du début du quizz et celui de la suite\r\n",
    "    if nb_quest == 0:\r\n",
    "        print('Bonjour et bienvenu à notre quizz !!')\r\n",
    "        print('')\r\n",
    "        print('La 1ère question à laquelle il faudrait répondre pour espérer atteindre le million est : ')\r\n",
    "        print('')\r\n",
    "    else :\r\n",
    "        print('')\r\n",
    "        print('Maintenant place à la ', nb_quest+1,'ème question :')\r\n",
    "        print('')\r\n",
    "\r\n",
    "#---On affiche la question\r\n",
    "    print(questions[nb_quest])\r\n",
    "    print('')"
   ],
   "outputs": [],
   "metadata": {}
  },
  {
   "cell_type": "markdown",
   "source": [
    "### Fct 3 : demander la réponse et vérifer sa cohérence et son exactitude"
   ],
   "metadata": {}
  },
  {
   "cell_type": "code",
   "execution_count": 13,
   "source": [
    "def demande_verif_rep(bonne_rep,reps,qcm,nb_bad_max=3):\r\n",
    "#---Si qcm, on affiche les propositions de réponses\r\n",
    "    if qcm :        \r\n",
    "        j=1\r\n",
    "        for i in reps:\r\n",
    "            print(j,\" - \",i)\r\n",
    "            j+=1\r\n",
    "\r\n",
    "#------ On demande le numéro de la proposition présentie\r\n",
    "        print('')\r\n",
    "        rep = input(\"Veuillez indiquer le numéro de votre réponse \\n\")\r\n",
    "\r\n",
    "\r\n",
    "#---Sinon, on affiche rien et on demande directement la réponse\r\n",
    "    else : \r\n",
    "        rep = input(\"Veuillez indiquer votre réponse \\n\")\r\n",
    "\r\n",
    "#---On vérifie la cohérence et l'exactitude de la réponse (la variable passer doit être égale à 1)\r\n",
    "    passer =0\r\n",
    "    nb_bad_temp = 0\r\n",
    "    while passer == 0 and nb_bad_temp<nb_bad_max :\r\n",
    "\r\n",
    "        if not(qcm):\r\n",
    "#-------On vérifie la réponse si quizz est non QCM\r\n",
    "            passer= verifier(rep,bonne_rep)\r\n",
    "            if passer == 0 :\r\n",
    "                nb_bad_temp+=1\r\n",
    "                if nb_bad_temp < nb_bad_max:\r\n",
    "                    print('')\r\n",
    "                    rep=input(\"Veuillez retester, vous avez {} tentatives restantes \\n\".format(nb_bad_max-nb_bad_temp)+ \"\\n\")\r\n",
    "\r\n",
    "        else:\r\n",
    "            try :\r\n",
    "                rep=int(rep)\r\n",
    "\r\n",
    "            except :\r\n",
    "#-----------REPONSE = Chaine de Caractères\r\n",
    "\r\n",
    "#-------------------La réponse donnée pour un qcm est une chaine de caractère, on redemande d'insérer uniquement le numéro\r\n",
    "                    rep = input(\"Veuillez insérer uniquement le numéro de la réponse \\n\")\r\n",
    "\r\n",
    "            else :\r\n",
    "#-----------REPONSE = Numérique\r\n",
    "                if rep >= j or rep <=0 :\r\n",
    "\r\n",
    "#-------------------La réponse donnée pour un QCM est un numéro différent de celui du quizz\r\n",
    "                    rep = input(\"Veuillez réinsérer le numéro de votre réponse \\n\")\r\n",
    "\r\n",
    "                else :               \r\n",
    "\r\n",
    "#-------------------On vérifie la réponse numérique du QCM                  \r\n",
    "                    passer= verifier(rep,bonne_rep)\r\n",
    "\r\n",
    "                    if passer == 0 :\r\n",
    "                        nb_bad_temp+=1\r\n",
    "                        if nb_bad_temp < nb_bad_max:\r\n",
    "                            print('')\r\n",
    "                            rep=input(\"Veuillez retester, vous avez {} tentatives restantes \\n\".format(nb_bad_max-nb_bad_temp)+ \"\\n\")\r\n",
    "\r\n",
    "    return nb_bad_temp,passer\r\n",
    "    "
   ],
   "outputs": [],
   "metadata": {}
  },
  {
   "cell_type": "markdown",
   "source": [
    "### Fct 4 : Démarer un quizz"
   ],
   "metadata": {}
  },
  {
   "cell_type": "code",
   "execution_count": 14,
   "source": [
    "   \r\n",
    "#Définition de la fonction qui démare le quizz incluant des questions en QCM (ou pas)\r\n",
    "\r\n",
    "def demarer_quizz_qcm(quest,bonne_rep,reps=[[]],nb_bad_max=3):\r\n",
    "\r\n",
    "#---On intialise nos compteurs (nombre de questions parcourues, nombre de mauvaises réponses)\r\n",
    "    nb_quest = 0\r\n",
    "    nb_bad = 0\r\n",
    "\r\n",
    "#---On vérifie si l'utilisateur a renseigné des propositions de réponses\r\n",
    "    qcm = False\r\n",
    "    if reps == [[]]:\r\n",
    "        qcm_exist = False\r\n",
    "    else :\r\n",
    "        qcm_exist = True\r\n",
    "\r\n",
    "        \r\n",
    "#--On parcours la liste des questions / réponses\r\n",
    "    while nb_quest<len(quest):\r\n",
    "        \r\n",
    "#-------On affiche la question\r\n",
    "        afficher_question(quest,nb_quest)\r\n",
    "        \r\n",
    "        \r\n",
    "#------ On vérifie si la question (nb_quest) est un qcm\r\n",
    "        if qcm_exist and reps[nb_quest] != [] :\r\n",
    "            qcm = True\r\n",
    "            reps_temp=reps[nb_quest]\r\n",
    "#-----------Si QCM, On vérifie le format de la bonne réponse fournie. Si ce n'est pas un int, on obtient un message d'erreur\r\n",
    "            if type(bonne_rep[nb_quest])!=int :\r\n",
    "                return print(\"ERROR : check l'input de ta liste de bonnes réponses\" )\r\n",
    "        else :\r\n",
    "            qcm = False\r\n",
    "            reps_temp=[]\r\n",
    "#-------On demande une réponse et on la vérifie\r\n",
    "        nb_bad_temp, sucess = demande_verif_rep(bonne_rep[nb_quest],reps_temp,qcm,nb_bad_max)\r\n",
    "        nb_bad +=nb_bad_temp                \r\n",
    "        if sucess == 0 :\r\n",
    "            return print('Looooser, You lost the game')\r\n",
    "        else :\r\n",
    "            nb_quest+=1\r\n",
    "        \r\n",
    "#---On félicite l'utilisateur de la réussite au quizz                             \r\n",
    "    print(\"\")\r\n",
    "    print(\"!!! Vous avez atteind le palier des 1 million d'euros en ayant eu \", nb_bad,\" mauvaises réponses !!!\")    \r\n",
    "    if nb_bad == 0:\r\n",
    "        print('!!! Pas mal, Pas mal CHAMPION !!!')\r\n",
    "    elif nb_bad <3 :\r\n",
    "        print('!!! Clooooose !!!')\r\n",
    "    else :\r\n",
    "        print('!!! GROS NUUUUUUL !!!')"
   ],
   "outputs": [],
   "metadata": {}
  },
  {
   "cell_type": "code",
   "execution_count": null,
   "source": [],
   "outputs": [],
   "metadata": {}
  },
  {
   "cell_type": "markdown",
   "source": [
    "### Initialisation du quizz"
   ],
   "metadata": {}
  },
  {
   "cell_type": "code",
   "execution_count": 15,
   "source": [
    "## QUIZZ QCM ##\r\n",
    "questions = ['qui est tu ?','Qui a découvert le continant américain ?','pourquoi tu veux obtenir le million ?']\r\n",
    "reps = [[],['chinois', 'espagnols', 'marocains', 'dude'],[]]\r\n",
    "bonne_rep = ['Youness',1,'en finir avec la pauvreté dans le monde']\r\n"
   ],
   "outputs": [],
   "metadata": {}
  },
  {
   "cell_type": "markdown",
   "source": [
    "### Démarer le quizz"
   ],
   "metadata": {}
  },
  {
   "cell_type": "code",
   "execution_count": 16,
   "source": [
    "demarer_quizz_qcm(questions,bonne_rep, reps,3)"
   ],
   "outputs": [
    {
     "output_type": "stream",
     "name": "stdout",
     "text": [
      "Bonjour et bienvenu à notre quizz !!\n",
      "\n",
      "La 1ère question à laquelle il faudrait répondre pour espérer atteindre le million est : \n",
      "\n",
      "qui est tu ?\n",
      "\n",
      "\n",
      "----------------------------------------------------\n",
      "Good job! This is the right answer\n",
      "----------------------------------------------------\n",
      "\n",
      "\n",
      "Maintenant place à la  2 ème question :\n",
      "\n",
      "Qui a découvert le continant américain ?\n",
      "\n",
      "1  -  chinois\n",
      "2  -  espagnols\n",
      "3  -  marocains\n",
      "4  -  dude\n",
      "\n",
      "\n",
      "----------------------------------------------------\n",
      "Good job! This is the right answer\n",
      "----------------------------------------------------\n",
      "\n",
      "\n",
      "Maintenant place à la  3 ème question :\n",
      "\n",
      "pourquoi tu veux obtenir le million ?\n",
      "\n",
      "\n",
      "----------------------------------------------------\n",
      "Too bad! that is not the correct answer\n",
      "----------------------------------------------------\n",
      "\n",
      "\n",
      "\n",
      "----------------------------------------------------\n",
      "Too bad! that is not the correct answer\n",
      "----------------------------------------------------\n",
      "\n",
      "\n",
      "\n",
      "----------------------------------------------------\n",
      "Too bad! that is not the correct answer\n",
      "----------------------------------------------------\n",
      "\n",
      "Looooser, You lost the game\n"
     ]
    }
   ],
   "metadata": {}
  },
  {
   "cell_type": "code",
   "execution_count": null,
   "source": [],
   "outputs": [],
   "metadata": {}
  },
  {
   "cell_type": "code",
   "execution_count": null,
   "source": [],
   "outputs": [],
   "metadata": {}
  }
 ],
 "metadata": {
  "kernelspec": {
   "name": "python3",
   "display_name": "Python 3.8.3 64-bit ('base': conda)"
  },
  "language_info": {
   "codemirror_mode": {
    "name": "ipython",
    "version": 3
   },
   "file_extension": ".py",
   "mimetype": "text/x-python",
   "name": "python",
   "nbconvert_exporter": "python",
   "pygments_lexer": "ipython3",
   "version": "3.8.3"
  },
  "interpreter": {
   "hash": "07efdcd4b820c98a756949507a4d29d7862823915ec7477944641bea022f4f62"
  }
 },
 "nbformat": 4,
 "nbformat_minor": 4
}